{
 "cells": [
  {
   "cell_type": "markdown",
   "id": "c0ab3345",
   "metadata": {},
   "source": [
    "# Hack-Heist 2022 - Implimentation Dominators\n",
    "\n",
    "### Auto Generating the Summary and action items from the meeting\n",
    "\n",
    "#### Team Members Loui, Madhukar and Farah"
   ]
  },
  {
   "cell_type": "markdown",
   "id": "5dc495db",
   "metadata": {},
   "source": [
    "------------------------"
   ]
  },
  {
   "cell_type": "markdown",
   "id": "ed6d0f4c",
   "metadata": {},
   "source": [
    "Execution Instructions: Please follow the steps 1,2 and 3 mentioned in the below cells"
   ]
  },
  {
   "cell_type": "markdown",
   "id": "e78c6434",
   "metadata": {},
   "source": [
    "### Video file to Audio Converter Implimentation"
   ]
  },
  {
   "cell_type": "code",
   "execution_count": null,
   "id": "45114321",
   "metadata": {},
   "outputs": [],
   "source": [
    "!pip3 install ffmpeg moviepy\n",
    "!pip3 install IPython"
   ]
  },
  {
   "cell_type": "code",
   "execution_count": null,
   "id": "5fb5a2de",
   "metadata": {},
   "outputs": [],
   "source": [
    "import moviepy.editor as mp\n",
    "import IPython #to play the audio file in notebook\n",
    "\n",
    "def convert_video_to_audio(videofile_name,audiofile_name):\n",
    "    print(\"converting Video to Audio file..\")\n",
    "    my_clip=mp.VideoFileClip(videofile_name)\n",
    "    my_clip.audio.write_audiofile(audiofile_name)"
   ]
  },
  {
   "cell_type": "markdown",
   "id": "1c5fbe5a",
   "metadata": {},
   "source": [
    "### Audio to Text Converter Implimentation"
   ]
  },
  {
   "cell_type": "code",
   "execution_count": null,
   "id": "0bf4cf74",
   "metadata": {},
   "outputs": [],
   "source": [
    "!pip3 install pydub\n",
    "!pip3 install SpeechRecognition\n",
    "!pip3 install audioread"
   ]
  },
  {
   "cell_type": "code",
   "execution_count": null,
   "id": "16d95680",
   "metadata": {},
   "outputs": [],
   "source": [
    "import sys\n",
    "import speech_recognition as sr\n",
    "from pydub import AudioSegment\n",
    "from pydub.silence import split_on_silence\n",
    "import os\n",
    "\n",
    "\n",
    "\n",
    "#This can convert largefiles. It will split the main file into small chunks and convert to text\n",
    "def large_audio_to_text(audio_file):\n",
    "    converted_text = \"\"\n",
    "    error=\"\"\n",
    "    r = sr.Recognizer()\n",
    "    print(\"converting Audio file {} to Text file..\".format(audio_file))\n",
    "    sound = AudioSegment.from_wav(audio_file)\n",
    "    audio_chunks = split_on_silence(sound, min_silence_len = 1000, silence_thresh = sound.dBFS-16, keep_silence=500)\n",
    "    folder_name = \"split_audio\"\n",
    "    if not os.path.isdir(folder_name):\n",
    "        os.mkdir(folder_name)\n",
    "    for i, chunk in enumerate(audio_chunks, start=1):\n",
    "        split_audio_file = os.path.join(folder_name,f\"chunk{i}.wav\")\n",
    "        #print(split_audio)\n",
    "        chunk.export(split_audio_file,format=\"wav\")\n",
    "        #audio_to_text(split_audio)\n",
    "        with sr.AudioFile(split_audio_file) as source:\n",
    "            #r.adjust_for_ambient_noise(source)\n",
    "            audio = r.record(source)\n",
    "            try:\n",
    "                text = r.recognize_google(audio)\n",
    "            except sr.UnknownValueError as e:\n",
    "                #print(\"{} : error:: {}\".format( split_audio_file, str(e)))\n",
    "                error+=str(e)\n",
    "            else:\n",
    "                text = f\"{text.capitalize()}. \"\n",
    "                #print(\"{} : {}\".format(split_audio_file, text))\n",
    "                converted_text += text\n",
    "    print(\"\\n \\n\")\n",
    "    print(converted_text)\n",
    "    if \".wav\" in audio_file:\n",
    "        textfile = audio_file.strip(\".wav\")+\"\"+\"_ConvertedText.txt\"\n",
    "    else:\n",
    "        textfile = \"_ConvertedText.txt\"\n",
    "    with open(textfile, \"w+\") as text_file:\n",
    "        text_file.write(converted_text)\n",
    "    print(\"\\n Completed and placed text in {} \\n\".format(textfile))\n",
    "    return textfile\n",
    "\n"
   ]
  },
  {
   "cell_type": "markdown",
   "id": "b7f56d55",
   "metadata": {},
   "source": [
    "###  Processing text with NLP and spaCy"
   ]
  },
  {
   "cell_type": "code",
   "execution_count": null,
   "id": "32eebcc6",
   "metadata": {},
   "outputs": [],
   "source": [
    "!pip3 install spacy\n",
    "!python3 -m spacy download en_core_web_sm"
   ]
  },
  {
   "cell_type": "code",
   "execution_count": null,
   "id": "4325dfae",
   "metadata": {},
   "outputs": [],
   "source": [
    "import spacy\n",
    "\n",
    "def process_text(textfile_name):\n",
    "    nlp = spacy.load('en_core_web_sm')\n",
    "    textfile = open(textfile_name).read()\n",
    "    doc = nlp(textfile)\n",
    "    #print(doc)\n",
    "    sentences = list(doc.sents)\n",
    "    action =[]\n",
    "    summary = []\n",
    "    collaborators =[]\n",
    "    \n",
    "    for sentence in sentences:\n",
    "        for word in sentence:\n",
    "            if not (word.is_stop or word.is_punct):\n",
    "                if word.pos_ == 'NOUN'and (word.text in ['request']):\n",
    "                    summary.append(sentence)\n",
    "                if word.pos_ == 'VERB' and (word.text in ['send','update']):\n",
    "                    action.append(sentence)\n",
    "                if word.pos_ == 'PROPN':\n",
    "                    collaborators.append(word.text)\n",
    "                    \n",
    "    print(\"\\n Collaborators: \\n\")\n",
    "    print(collaborators)\n",
    "    \n",
    "    print(\"\\n Summary of the meeting: \\n\")\n",
    "    print('\\n'.join([line.text for line in summary]))\n",
    "               \n",
    "    print(\"\\n Action items of the meeting: \\n\")\n",
    "    print('\\n'.join([line.text for line in action]))"
   ]
  },
  {
   "cell_type": "markdown",
   "id": "0e14916d",
   "metadata": {},
   "source": [
    "### Step1: Converting Video to Audio"
   ]
  },
  {
   "cell_type": "code",
   "execution_count": null,
   "id": "63922f23",
   "metadata": {},
   "outputs": [],
   "source": [
    "\n",
    "videofile_name = \"Meeting_Recording.mp4\"\n",
    "audiofile_name = \"Audio_File.wav\"\n",
    "\n",
    "convert_video_to_audio(videofile_name,audiofile_name)\n",
    "print(\"playing the converted audio file..\")\n",
    "IPython.display.Audio(audiofile_name)\n",
    "\n"
   ]
  },
  {
   "cell_type": "markdown",
   "id": "b201aa4a",
   "metadata": {},
   "source": [
    "### Step2: Converting Audio to text"
   ]
  },
  {
   "cell_type": "code",
   "execution_count": null,
   "id": "1e1482bc",
   "metadata": {},
   "outputs": [],
   "source": [
    "\n",
    "textfile_name = large_audio_to_text(audiofile_name)\n"
   ]
  },
  {
   "cell_type": "markdown",
   "id": "25f58c97",
   "metadata": {},
   "source": [
    "### Step3: Processing Text"
   ]
  },
  {
   "cell_type": "code",
   "execution_count": null,
   "id": "e4ebbdf5",
   "metadata": {},
   "outputs": [],
   "source": [
    "process_text(textfile_name)"
   ]
  },
  {
   "cell_type": "code",
   "execution_count": null,
   "id": "461b8ec6",
   "metadata": {},
   "outputs": [],
   "source": []
  }
 ],
 "metadata": {
  "kernelspec": {
   "display_name": "Python 3 (ipykernel)",
   "language": "python",
   "name": "python3"
  },
  "language_info": {
   "codemirror_mode": {
    "name": "ipython",
    "version": 3
   },
   "file_extension": ".py",
   "mimetype": "text/x-python",
   "name": "python",
   "nbconvert_exporter": "python",
   "pygments_lexer": "ipython3",
   "version": "3.7.10"
  }
 },
 "nbformat": 4,
 "nbformat_minor": 5
}
